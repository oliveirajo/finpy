{
 "cells": [
  {
   "cell_type": "code",
   "execution_count": 2,
   "id": "bd40e54e-79ae-4551-930c-373e76516220",
   "metadata": {},
   "outputs": [
    {
     "name": "stdout",
     "output_type": "stream",
     "text": [
      "[*********************100%***********************]  2 of 2 completed\n"
     ]
    }
   ],
   "source": [
    "import yfinance as yf\n",
    "import pandas as pd\n",
    "import db.conn as db\n",
    "\n",
    "msft = yf.Ticker(\"AAPL\")\n",
    "data = yf.download(\"SPY AAPL\", start=\"2017-01-01\", end=\"2017-04-30\",\n",
    "                   group_by=\"ticker\")\n",
    "blc_sheet = msft.balance_sheet\n",
    "#print(msft.info)\n",
    "#print(msft.history(period=\"max\"))\n",
    "#print(msft.actions) #dividend + splits\n",
    "#print(msft.dividends)\n",
    "#print(msft.financials)\n",
    "#print(msft.major_holders) # persons/institutions that hold company shares\n",
    "#print(msft.balance_sheet)\n",
    "#print(msft.cashflow)\n",
    "#print(msft.earnings) #revenues + earnings (last 4 years)\n",
    "#print(msft.sustainability) #Ecofriendly KPIS\n",
    "#print(msft.recommendations)\n",
    "#print(msft.calendar) # events of interes Earnings date\n",
    "#print(msft.isin) # ISIN = International Securities Identification Number\n",
    "#print(msft.options) # show options expirations\n",
    "#print(msft.option_chain('2021-05-14')) # get option chain for specific expiration\n"
   ]
  },
  {
   "cell_type": "code",
   "execution_count": 5,
   "id": "7e0517af-0195-49d1-abc3-691dc0238f9c",
   "metadata": {},
   "outputs": [
    {
     "data": {
      "text/plain": [
       "pandas.core.frame.DataFrame"
      ]
     },
     "execution_count": 5,
     "metadata": {},
     "output_type": "execute_result"
    }
   ],
   "source": [
    "df = pd.DataFrame(data=blc_sheet)\n",
    "df1 = df.transpose()\n",
    "type(df1)\n"
   ]
  },
  {
   "cell_type": "code",
   "execution_count": 4,
   "id": "8fc7e50f-19c7-4554-8603-8ef0eee7f6fb",
   "metadata": {},
   "outputs": [
    {
     "ename": "SyntaxError",
     "evalue": "invalid syntax (<ipython-input-4-c6dca88ccafb>, line 2)",
     "output_type": "error",
     "traceback": [
      "\u001b[1;36m  File \u001b[1;32m\"<ipython-input-4-c6dca88ccafb>\"\u001b[1;36m, line \u001b[1;32m2\u001b[0m\n\u001b[1;33m    print(row.'Other Liab\t')\u001b[0m\n\u001b[1;37m              ^\u001b[0m\n\u001b[1;31mSyntaxError\u001b[0m\u001b[1;31m:\u001b[0m invalid syntax\n"
     ]
    }
   ],
   "source": [
    "for index, row in df.iterrows():\n",
    "    print(row.'Other Liab\t')"
   ]
  },
  {
   "cell_type": "code",
   "execution_count": 47,
   "id": "8eeca5db-09ce-49a5-ac6e-9109e1878a1d",
   "metadata": {},
   "outputs": [
    {
     "name": "stdout",
     "output_type": "stream",
     "text": [
      "            Brand  Price\n",
      "0     Honda Civic  22000\n",
      "1  Toyota Corolla  25000\n",
      "2      Ford Focus  27000\n",
      "3         Audi A4  35000\n"
     ]
    }
   ],
   "source": [
    "Cars = {'Brand': ['Honda Civic','Toyota Corolla','Ford Focus','Audi A4'],\n",
    "        'Price': [22000,25000,27000,35000]\n",
    "        }\n",
    "conn = db.create_connection()\n",
    "df = pd.DataFrame(Cars, columns= ['Brand', 'Price'])\n",
    "print (df)"
   ]
  },
  {
   "cell_type": "code",
   "execution_count": null,
   "id": "176bb4c7-1b4a-4d64-a3ac-0e42b0cd64b7",
   "metadata": {},
   "outputs": [],
   "source": [
    "df.to_sql('CARS', conn, if_exists='replace', index = False)"
   ]
  },
  {
   "cell_type": "code",
   "execution_count": 16,
   "id": "fa82f835-03ec-4df5-84f2-f87e81f1aa66",
   "metadata": {},
   "outputs": [
    {
     "data": {
      "text/html": [
       "<div>\n",
       "<style scoped>\n",
       "    .dataframe tbody tr th:only-of-type {\n",
       "        vertical-align: middle;\n",
       "    }\n",
       "\n",
       "    .dataframe tbody tr th {\n",
       "        vertical-align: top;\n",
       "    }\n",
       "\n",
       "    .dataframe thead th {\n",
       "        text-align: right;\n",
       "    }\n",
       "</style>\n",
       "<table border=\"1\" class=\"dataframe\">\n",
       "  <thead>\n",
       "    <tr style=\"text-align: right;\">\n",
       "      <th></th>\n",
       "      <th>0</th>\n",
       "      <th>1</th>\n",
       "      <th>2</th>\n",
       "    </tr>\n",
       "  </thead>\n",
       "  <tbody>\n",
       "    <tr>\n",
       "      <th>0</th>\n",
       "      <td>MMM</td>\n",
       "      <td>3M Company</td>\n",
       "      <td>Industrials</td>\n",
       "    </tr>\n",
       "    <tr>\n",
       "      <th>1</th>\n",
       "      <td>AOS</td>\n",
       "      <td>A.O. Smith Corp</td>\n",
       "      <td>Industrials</td>\n",
       "    </tr>\n",
       "    <tr>\n",
       "      <th>2</th>\n",
       "      <td>ABT</td>\n",
       "      <td>Abbott Laboratories</td>\n",
       "      <td>Health Care</td>\n",
       "    </tr>\n",
       "    <tr>\n",
       "      <th>3</th>\n",
       "      <td>ABBV</td>\n",
       "      <td>AbbVie Inc.</td>\n",
       "      <td>Health Care</td>\n",
       "    </tr>\n",
       "    <tr>\n",
       "      <th>4</th>\n",
       "      <td>ABMD</td>\n",
       "      <td>Abiomed</td>\n",
       "      <td>Health Care</td>\n",
       "    </tr>\n",
       "    <tr>\n",
       "      <th>...</th>\n",
       "      <td>...</td>\n",
       "      <td>...</td>\n",
       "      <td>...</td>\n",
       "    </tr>\n",
       "    <tr>\n",
       "      <th>1005</th>\n",
       "      <td>YUM</td>\n",
       "      <td>Yum! Brands Inc</td>\n",
       "      <td>Consumer Discretionary</td>\n",
       "    </tr>\n",
       "    <tr>\n",
       "      <th>1006</th>\n",
       "      <td>ZBRA</td>\n",
       "      <td>Zebra Technologies</td>\n",
       "      <td>Information Technology</td>\n",
       "    </tr>\n",
       "    <tr>\n",
       "      <th>1007</th>\n",
       "      <td>ZBH</td>\n",
       "      <td>Zimmer Biomet</td>\n",
       "      <td>Health Care</td>\n",
       "    </tr>\n",
       "    <tr>\n",
       "      <th>1008</th>\n",
       "      <td>ZION</td>\n",
       "      <td>Zions Bancorp</td>\n",
       "      <td>Financials</td>\n",
       "    </tr>\n",
       "    <tr>\n",
       "      <th>1009</th>\n",
       "      <td>ZTS</td>\n",
       "      <td>Zoetis</td>\n",
       "      <td>Health Care</td>\n",
       "    </tr>\n",
       "  </tbody>\n",
       "</table>\n",
       "<p>1010 rows × 3 columns</p>\n",
       "</div>"
      ],
      "text/plain": [
       "         0                    1                       2\n",
       "0      MMM           3M Company             Industrials\n",
       "1      AOS      A.O. Smith Corp             Industrials\n",
       "2      ABT  Abbott Laboratories             Health Care\n",
       "3     ABBV          AbbVie Inc.             Health Care\n",
       "4     ABMD              Abiomed             Health Care\n",
       "...    ...                  ...                     ...\n",
       "1005   YUM      Yum! Brands Inc  Consumer Discretionary\n",
       "1006  ZBRA   Zebra Technologies  Information Technology\n",
       "1007   ZBH        Zimmer Biomet             Health Care\n",
       "1008  ZION        Zions Bancorp              Financials\n",
       "1009   ZTS               Zoetis             Health Care\n",
       "\n",
       "[1010 rows x 3 columns]"
      ]
     },
     "execution_count": 16,
     "metadata": {},
     "output_type": "execute_result"
    }
   ],
   "source": [
    "cnx = db.create_connection()\n",
    "query = \"SELECT * FROM sp500\"\n",
    "c = cnx.cursor()\n",
    "c.execute(query)\n",
    "test = c.fetchall()\n",
    "df = pd.DataFrame(test)\n",
    "df"
   ]
  },
  {
   "cell_type": "code",
   "execution_count": null,
   "id": "1c0ec2e1-7f5b-44e0-b050-a1788beff483",
   "metadata": {},
   "outputs": [],
   "source": []
  }
 ],
 "metadata": {
  "kernelspec": {
   "display_name": "Python 3",
   "language": "python",
   "name": "python3"
  },
  "language_info": {
   "codemirror_mode": {
    "name": "ipython",
    "version": 3
   },
   "file_extension": ".py",
   "mimetype": "text/x-python",
   "name": "python",
   "nbconvert_exporter": "python",
   "pygments_lexer": "ipython3",
   "version": "3.9.4"
  }
 },
 "nbformat": 4,
 "nbformat_minor": 5
}
