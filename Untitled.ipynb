{
 "cells": [
  {
   "cell_type": "code",
   "execution_count": 1,
   "id": "bd40e54e-79ae-4551-930c-373e76516220",
   "metadata": {},
   "outputs": [
    {
     "name": "stdout",
     "output_type": "stream",
     "text": [
      "[*********************100%***********************]  2 of 2 completed\n"
     ]
    }
   ],
   "source": [
    "import yfinance as yf\n",
    "import pandas as pd\n",
    "import db.conn as db\n",
    "import numpy as np\n",
    "import datetime as dt\n",
    "\n",
    "msft = yf.Ticker(\"AAPL\")\n",
    "data = yf.download(\"SPY AAPL\", start=\"2017-01-01\", end=\"2017-04-30\",\n",
    "                   group_by=\"ticker\")\n",
    "cnx = db.create_connection()\n",
    "blc_sheet = msft.balance_sheet\n",
    "#print(msft.info)\n",
    "#print(msft.history(period=\"max\"))\n",
    "#print(msft.actions) #dividend + splits\n",
    "#print(msft.dividends)\n",
    "#print(msft.financials)\n",
    "#print(msft.major_holders) # persons/institutions that hold company shares\n",
    "#print(msft.balance_sheet)\n",
    "#print(msft.cashflow)\n",
    "#print(msft.earnings) #revenues + earnings (last 4 years)\n",
    "#print(msft.sustainability) #Ecofriendly KPIS\n",
    "#print(msft.recommendations)\n",
    "#print(msft.calendar) # events of interes Earnings date\n",
    "#print(msft.isin) # ISIN = International Securities Identification Number\n",
    "#print(msft.options) # show options expirations\n",
    "#print(msft.option_chain('2021-05-14')) # get option chain for specific expiration\n"
   ]
  },
  {
   "cell_type": "code",
   "execution_count": 30,
   "id": "1c0ec2e1-7f5b-44e0-b050-a1788beff483",
   "metadata": {},
   "outputs": [],
   "source": [
    "def get_blc_sheet():\n",
    "    cnx = db.create_connection()\n",
    "    c = cnx.cursor()\n",
    "    \n",
    "    create_sql = \"CREATE TABLE IF NOT EXISTS blc_sheet(date_inserted datetime,Date date,Ticker varchar(50),Total_Liab float,\"\\\n",
    "                \"Total_Stockholder_Equity float,Other_Current_Liab float,Total_Assets float,\"\\\n",
    "                \"Common_Stock float,Other_Current_Assets float,Retained_Earnings float,Other_Liab float,Treasury_Stock float,Other_Assets float,\"\\\n",
    "                \"Cash float,Total_Current_Liabilities float,Short_Long_Term_Debt float,Other_Stockholder_Equity float,Property_Plant_Equipment float,\"\\\n",
    "                \"Total_Current_Assets float,Long_Term_Investments float,Net_Tangible_Assets float,Short_Term_Investments float,Net_Receivables float,\"\\\n",
    "                \"Long_Term_Debt float,Inventory float,Accounts_Payable float)\"\n",
    "    c.execute(create_sql)\n",
    "    db.delete_table(cnx,'blc_sheet')\n",
    "    query = \"SELECT ticker FROM sp500\"\n",
    "    c.execute(query)\n",
    "    test = c.fetchall()\n",
    "    for item in test:\n",
    "        df = pd.DataFrame(data=blc_sheet)\n",
    "        df1 = df.transpose()\n",
    "        df1.index = df1.index.set_names(['Date'])\n",
    "        df1.insert(0,'Ticker',item[0])\n",
    "        df1.reset_index(level=0,inplace=True)\n",
    "        df1['Date'] = df1['Date'].astype('str')\n",
    "        now = dt.datetime.now()\n",
    "        df1.insert(0,'date_inserted',now)\n",
    "        df1['date_inserted'] = df1['date_inserted'].astype('str')\n",
    "        #creating column lsit for insertion\n",
    "        cols = \",\".join(df1.columns)\n",
    "        cols_clean = cols.replace(\" \",\"_\")\n",
    "\n",
    "        # Insert DataFrame records one by one.\n",
    "        for i,row in df1.iterrows():\n",
    "            placeholder = \", \".join([\"%s\"] * len(row))\n",
    "            sql = \"INSERT INTO blc_sheet({cols}) VALUES ({placeholder});\".format(cols=cols_clean, placeholder=placeholder)\n",
    "            c.execute(sql, tuple(row))\n",
    "        # the connection is not autocommitted by default, so we must commit to save our # changes \n",
    "            cnx.commit()"
   ]
  },
  {
   "cell_type": "code",
   "execution_count": 31,
   "id": "227cc46b-7046-497c-a1df-e38a658e6421",
   "metadata": {},
   "outputs": [],
   "source": [
    "get_blc_sheet()"
   ]
  },
  {
   "cell_type": "code",
   "execution_count": 23,
   "id": "c73349b9-bb42-43eb-b58d-e1d491c37006",
   "metadata": {},
   "outputs": [],
   "source": [
    "def get_financials():\n",
    "    cnx = db.create_connection()\n",
    "    c = cnx.cursor()\n",
    "    msft = yf.Ticker(\"AAPL\")\n",
    "    blc_sheet = msft.financials\n",
    "    db.create_financials_table(cnx)\n",
    "    db.delete_table(cnx,'financials')\n",
    "    query = \"SELECT ticker FROM sp500\"\n",
    "    c.execute(query)\n",
    "    test = c.fetchall()\n",
    "    for item in test:\n",
    "        df = pd.DataFrame(data=blc_sheet)\n",
    "        df1 = df.transpose()\n",
    "        df1.index = df1.index.set_names(['Date'])\n",
    "        df1.insert(0,'Ticker',item[0])\n",
    "        df1.reset_index(level=0,inplace=True)\n",
    "        df1['Date'] = df1['Date'].astype('str')\n",
    "        now = dt.datetime.now()\n",
    "        df1.insert(0,'date_inserted',now)\n",
    "        df1['date_inserted'] = df1['date_inserted'].astype('str')\n",
    "        #creating column lsit for insertion\n",
    "        cols = \",\".join(df1.columns)\n",
    "        cols_clean = cols.replace(\" \",\"_\")\n",
    "\n",
    "        # Insert DataFrame records one by one.\n",
    "        for i,row in df1.iterrows():\n",
    "            placeholder = \", \".join([\"%s\"] * len(row))\n",
    "            sql = \"INSERT INTO financials({cols}) VALUES ({placeholder});\".format(cols=cols_clean, placeholder=placeholder)\n",
    "            c.execute(sql, tuple(row))\n",
    "        # the connection is not autocommitted by default, so we must commit to save our # changes \n",
    "            cnx.commit()"
   ]
  },
  {
   "cell_type": "code",
   "execution_count": 24,
   "id": "b2070437-961b-4f71-8e24-4e638259122b",
   "metadata": {},
   "outputs": [
    {
     "ename": "AttributeError",
     "evalue": "module 'db.conn' has no attribute 'create_financials_table'",
     "output_type": "error",
     "traceback": [
      "\u001b[1;31m---------------------------------------------------------------------------\u001b[0m",
      "\u001b[1;31mAttributeError\u001b[0m                            Traceback (most recent call last)",
      "\u001b[1;32m<ipython-input-24-f68d83278e2e>\u001b[0m in \u001b[0;36m<module>\u001b[1;34m\u001b[0m\n\u001b[1;32m----> 1\u001b[1;33m \u001b[0mget_financials\u001b[0m\u001b[1;33m(\u001b[0m\u001b[1;33m)\u001b[0m\u001b[1;33m\u001b[0m\u001b[1;33m\u001b[0m\u001b[0m\n\u001b[0m",
      "\u001b[1;32m<ipython-input-23-9fae597d3669>\u001b[0m in \u001b[0;36mget_financials\u001b[1;34m()\u001b[0m\n\u001b[0;32m      4\u001b[0m     \u001b[0mmsft\u001b[0m \u001b[1;33m=\u001b[0m \u001b[0myf\u001b[0m\u001b[1;33m.\u001b[0m\u001b[0mTicker\u001b[0m\u001b[1;33m(\u001b[0m\u001b[1;34m\"AAPL\"\u001b[0m\u001b[1;33m)\u001b[0m\u001b[1;33m\u001b[0m\u001b[1;33m\u001b[0m\u001b[0m\n\u001b[0;32m      5\u001b[0m     \u001b[0mblc_sheet\u001b[0m \u001b[1;33m=\u001b[0m \u001b[0mmsft\u001b[0m\u001b[1;33m.\u001b[0m\u001b[0mfinancials\u001b[0m\u001b[1;33m\u001b[0m\u001b[1;33m\u001b[0m\u001b[0m\n\u001b[1;32m----> 6\u001b[1;33m     \u001b[0mdb\u001b[0m\u001b[1;33m.\u001b[0m\u001b[0mcreate_financials_table\u001b[0m\u001b[1;33m(\u001b[0m\u001b[0mcnx\u001b[0m\u001b[1;33m)\u001b[0m\u001b[1;33m\u001b[0m\u001b[1;33m\u001b[0m\u001b[0m\n\u001b[0m\u001b[0;32m      7\u001b[0m     \u001b[0mdb\u001b[0m\u001b[1;33m.\u001b[0m\u001b[0mdelete_table\u001b[0m\u001b[1;33m(\u001b[0m\u001b[0mcnx\u001b[0m\u001b[1;33m,\u001b[0m\u001b[1;34m'financials'\u001b[0m\u001b[1;33m)\u001b[0m\u001b[1;33m\u001b[0m\u001b[1;33m\u001b[0m\u001b[0m\n\u001b[0;32m      8\u001b[0m     \u001b[0mquery\u001b[0m \u001b[1;33m=\u001b[0m \u001b[1;34m\"SELECT ticker FROM sp500\"\u001b[0m\u001b[1;33m\u001b[0m\u001b[1;33m\u001b[0m\u001b[0m\n",
      "\u001b[1;31mAttributeError\u001b[0m: module 'db.conn' has no attribute 'create_financials_table'"
     ]
    }
   ],
   "source": [
    "get_financials()"
   ]
  },
  {
   "cell_type": "code",
   "execution_count": 29,
   "id": "fb0eba21-8a92-48b1-81c8-2237d20270a6",
   "metadata": {},
   "outputs": [
    {
     "name": "stdout",
     "output_type": "stream",
     "text": [
      "                                       Firm      To Grade From Grade Action\n",
      "Date                                                                       \n",
      "2012-02-09 08:17:00       Canaccord Genuity           Buy              main\n",
      "2012-03-08 07:33:00          FBN Securities    Outperform              main\n",
      "2012-03-13 06:08:00               Jefferies           Buy              main\n",
      "2012-03-14 06:13:00          Morgan Stanley    Overweight              main\n",
      "2012-03-14 08:21:00       Canaccord Genuity           Buy              main\n",
      "...                                     ...           ...        ...    ...\n",
      "2021-04-29 13:17:44       Canaccord Genuity           Buy              main\n",
      "2021-04-29 13:20:06           Credit Suisse       Neutral              main\n",
      "2021-04-29 13:40:32  Monness, Crespi, Hardt           Buy              main\n",
      "2021-04-29 14:01:59                Barclays  Equal-Weight              main\n",
      "2021-05-19 10:59:15                Barclays  Equal-Weight              main\n",
      "\n",
      "[790 rows x 4 columns]\n"
     ]
    }
   ],
   "source": [
    "#print(msft.info)\n",
    "#print(msft.history(period=\"max\"))\n",
    "#print(msft.actions) #dividend + splits\n",
    "#print(msft.dividends)\n",
    "#print(msft.financials)\n",
    "#print(msft.major_holders) # persons/institutions that hold company shares\n",
    "#print(msft.balance_sheet)\n",
    "#print(msft.cashflow)\n",
    "#print(msft.earnings) #revenues + earnings (last 4 years)\n",
    "#print(msft.sustainability) #Ecofriendly KPIS\n",
    "#print(msft.recommendations)\n",
    "#print(msft.calendar) # events of interes Earnings date\n",
    "#print(msft.isin) # ISIN = International Securities Identification Number\n",
    "#print(msft.options) # show options expirations\n",
    "#print(msft.option_chain('2021-05-14')) # get option chain for specific expiration"
   ]
  },
  {
   "cell_type": "code",
   "execution_count": 8,
   "id": "aadf9f82-4e1b-4965-a927-bd58e87cf616",
   "metadata": {},
   "outputs": [],
   "source": [
    "def get_cashflow():\n",
    "    cnx = db.create_connection()\n",
    "    c = cnx.cursor()\n",
    "    msft = yf.Ticker(\"AAPL\")\n",
    "    blc_sheet = msft.cashflow\n",
    "\n",
    "    db.create_cashflow_table(cnx)\n",
    "    db.delete_table(cnx,'financials')\n",
    "    query = \"SELECT ticker FROM sp500\"\n",
    "    c.execute(query)\n",
    "    test = c.fetchall()\n",
    "    for item in test:\n",
    "        df = pd.DataFrame(data=blc_sheet)\n",
    "        df1 = df.transpose()\n",
    "        df1.index = df1.index.set_names(['Date'])\n",
    "        df1.insert(0,'Ticker',item[0])\n",
    "        df1.reset_index(level=0,inplace=True)\n",
    "        df1['Date'] = df1['Date'].astype('str')\n",
    "        now = dt.datetime.now()\n",
    "        df1.insert(0,'date_inserted',now)\n",
    "        df1['date_inserted'] = df1['date_inserted'].astype('str')\n",
    "        #creating column lsit for insertion\n",
    "        cols = \",\".join(df1.columns)\n",
    "        cols_clean = cols.replace(\" \",\"_\")\n",
    "        \n",
    "        # Insert DataFrame records one by one.\n",
    "        for i,row in df1.iterrows():\n",
    "            placeholder = \", \".join([\"%s\"] * len(row))\n",
    "            sql = \"INSERT INTO cashflow({cols}) VALUES ({placeholder});\".format(cols=cols_clean, placeholder=placeholder)\n",
    "            c.execute(sql, tuple(row))\n",
    "        # the connection is not autocommitted by default, so we must commit to save our # changes \n",
    "            cnx.commit()"
   ]
  },
  {
   "cell_type": "code",
   "execution_count": 9,
   "id": "22728f51-2e9d-4995-a7b4-a73ba9c5bec7",
   "metadata": {},
   "outputs": [],
   "source": [
    "get_cashflow()"
   ]
  },
  {
   "cell_type": "code",
   "execution_count": null,
   "id": "7e7aa639-42be-4cf5-bb9e-3f715fc46f53",
   "metadata": {},
   "outputs": [],
   "source": []
  }
 ],
 "metadata": {
  "kernelspec": {
   "display_name": "Python 3",
   "language": "python",
   "name": "python3"
  },
  "language_info": {
   "codemirror_mode": {
    "name": "ipython",
    "version": 3
   },
   "file_extension": ".py",
   "mimetype": "text/x-python",
   "name": "python",
   "nbconvert_exporter": "python",
   "pygments_lexer": "ipython3",
   "version": "3.9.4"
  }
 },
 "nbformat": 4,
 "nbformat_minor": 5
}
